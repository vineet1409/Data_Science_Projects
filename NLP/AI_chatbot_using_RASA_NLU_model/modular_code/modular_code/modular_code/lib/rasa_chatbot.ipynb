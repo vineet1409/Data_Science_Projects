{
  "nbformat": 4,
  "nbformat_minor": 0,
  "metadata": {
    "kernelspec": {
      "display_name": "Python 3",
      "language": "python",
      "name": "python3"
    },
    "language_info": {
      "codemirror_mode": {
        "name": "ipython",
        "version": 3
      },
      "file_extension": ".py",
      "mimetype": "text/x-python",
      "name": "python",
      "nbconvert_exporter": "python",
      "pygments_lexer": "ipython3",
      "version": "3.6.13"
    },
    "colab": {
      "name": "rasa_chatbot.ipynb",
      "provenance": []
    }
  },
  "cells": [
    {
      "cell_type": "code",
      "metadata": {
        "id": "y9PDMvlXjsC0"
      },
      "source": [
        "## https://aspiresoftware.in/blog/rasa-nlu-intent-classification-using-different-pipeline/"
      ],
      "execution_count": null,
      "outputs": []
    },
    {
      "cell_type": "code",
      "metadata": {
        "id": "DY6DV2zSjsC6"
      },
      "source": [
        "import sys"
      ],
      "execution_count": null,
      "outputs": []
    },
    {
      "cell_type": "code",
      "metadata": {
        "tags": [],
        "id": "CwrBXWSXjsC6"
      },
      "source": [
        "#!{sys.executable} -m pip install  rasa[tensorflow]==0.1.1"
      ],
      "execution_count": null,
      "outputs": []
    },
    {
      "cell_type": "code",
      "metadata": {
        "id": "blqi7UayjsC7"
      },
      "source": [
        "#!{sys.executable} -m pip install  pymongo"
      ],
      "execution_count": null,
      "outputs": []
    },
    {
      "cell_type": "code",
      "metadata": {
        "id": "zu_vj2_6jsC7"
      },
      "source": [
        "#!{sys.executable} -m pip install  matplotlib"
      ],
      "execution_count": null,
      "outputs": []
    },
    {
      "cell_type": "code",
      "metadata": {
        "id": "N7xtgdBMjsC7"
      },
      "source": [
        "#!{sys.executable} -m pip install  pandas"
      ],
      "execution_count": null,
      "outputs": []
    },
    {
      "cell_type": "code",
      "metadata": {
        "tags": [],
        "id": "Uyyyp7jwjsC7"
      },
      "source": [
        "#!{sys.executable} -m pip install  tensorflow==1.15"
      ],
      "execution_count": null,
      "outputs": []
    },
    {
      "cell_type": "code",
      "metadata": {
        "id": "4VXpkiNmjsC7"
      },
      "source": [
        "#!{sys.executable} -m pip install spacy==2.3.5"
      ],
      "execution_count": null,
      "outputs": []
    },
    {
      "cell_type": "code",
      "metadata": {
        "id": "gm0Z-lscjsC8"
      },
      "source": [
        "import spacy"
      ],
      "execution_count": null,
      "outputs": []
    },
    {
      "cell_type": "code",
      "metadata": {
        "tags": [],
        "id": "4bMTXzBZjsC8"
      },
      "source": [
        "#!{sys.executable} -m spacy  download en"
      ],
      "execution_count": null,
      "outputs": []
    },
    {
      "cell_type": "code",
      "metadata": {
        "id": "NBAh8Yr-jsC8"
      },
      "source": [
        "nlp = spacy.load(\"en\")"
      ],
      "execution_count": null,
      "outputs": []
    },
    {
      "cell_type": "code",
      "metadata": {
        "id": "-nEmXxBujsC8"
      },
      "source": [
        "import tensorflow\n",
        "import requests"
      ],
      "execution_count": null,
      "outputs": []
    },
    {
      "cell_type": "code",
      "metadata": {
        "id": "AIIlQvSDjsC8"
      },
      "source": [
        ""
      ],
      "execution_count": null,
      "outputs": []
    },
    {
      "cell_type": "code",
      "metadata": {
        "id": "RJP-YLFtjsC8"
      },
      "source": [
        "# read the required libraries\n",
        "import os\n",
        "import pandas as pd\n",
        "import matplotlib.pyplot as plt\n",
        "from rasa_nlu.model import Trainer\n",
        "from rasa_nlu.test import run_evaluation\n",
        "from rasa_nlu import config\n",
        "from rasa_nlu.training_data import load_data\n",
        "import random\n",
        "import time"
      ],
      "execution_count": null,
      "outputs": []
    },
    {
      "cell_type": "code",
      "metadata": {
        "id": "e72V_O2fjsC9"
      },
      "source": [
        "# read the data\n",
        "data=\"./data/data.json\""
      ],
      "execution_count": null,
      "outputs": []
    },
    {
      "cell_type": "code",
      "metadata": {
        "tags": [],
        "id": "lVI64vWKjsC9"
      },
      "source": [
        "initial_data = pd.read_json(data)"
      ],
      "execution_count": null,
      "outputs": []
    },
    {
      "cell_type": "code",
      "metadata": {
        "id": "z4LvdxoWjsC9"
      },
      "source": [
        "def select_examples(initial_data, nb_of_examples):\n",
        "    \"\"\"\n",
        "    :param initial_data: rasa nlu data\n",
        "    :param nb_of_examples: no of examples as a threshold on how do we need to split the data\n",
        "    :return:training and testing dataframe after splitting the initial data\n",
        "    \"\"\"\n",
        "\n",
        "    if nb_of_examples > len(initial_data[\"rasa_nlu_data\"][\"common_examples\"]):\n",
        "           nb_of_examples = len(initial_data[\"rasa_nlu_data\"][\"common_examples\"])\n",
        "    training_examples_list = []\n",
        "    test_examples_list = []\n",
        "    training_df = initial_data.copy()\n",
        "    test_df = initial_data.copy()\n",
        "\n",
        "    examples_df = pd.DataFrame.from_records(initial_data[\"rasa_nlu_data\"][\"common_examples\"])\n",
        "    serie_distOfExamples = examples_df[\"intent\"].value_counts()/len(examples_df)\n",
        "    for intent in serie_distOfExamples.index.values:\n",
        "        n=int(serie_distOfExamples[intent]*nb_of_examples)\n",
        "        l = examples_df[examples_df[\"intent\"] == intent].index.values\n",
        "        examples_samp = random.sample(list(l),n)\n",
        "        training_examples_ids = random.sample(examples_samp,int(n*0.8))\n",
        "        for ex_id in training_examples_ids:\n",
        "            examples_samp.remove(ex_id)\n",
        "        for index_train in training_examples_ids:\n",
        "            training_examples_list.append(initial_data[\"rasa_nlu_data\"][\"common_examples\"][index_train])\n",
        "        for index_test in examples_samp:\n",
        "            test_examples_list.append(initial_data[\"rasa_nlu_data\"][\"common_examples\"][index_test])\n",
        "            \n",
        "    training_df[\"rasa_nlu_data\"][\"common_examples\"] = training_examples_list\n",
        "    test_df[\"rasa_nlu_data\"][\"common_examples\"] = test_examples_list\n",
        "\n",
        "    return training_df, test_df"
      ],
      "execution_count": null,
      "outputs": []
    },
    {
      "cell_type": "code",
      "metadata": {
        "id": "0-XdeSt0jsC9"
      },
      "source": [
        "def construct_jsonExampleFile(training_df, test_df, initial_data):\n",
        "    \"\"\"\n",
        "    :param training_df: training dataframe\n",
        "    :param test_df: testing dataframe\n",
        "    :return: None, writes both the dataframe into specified path\n",
        "    \"\"\"\n",
        "    training_df.to_json('./data/training_data.json')\n",
        "    test_df.to_json('./data/test_data.json')"
      ],
      "execution_count": null,
      "outputs": []
    },
    {
      "cell_type": "code",
      "metadata": {
        "id": "iNqNsAidjsC9"
      },
      "source": [
        "def examplesDist_plot(log_pd):\n",
        "    \"\"\"\n",
        "    :param log_pd: data as the rasa nlu data,\n",
        "    :return: None, calculate value count per intent and plots that using matplotlib\n",
        "    \"\"\"\n",
        "    percent = pd.DataFrame.from_records(log_pd[\"rasa_nlu_data\"][\"common_examples\"])[\"intent\"].value_counts()\n",
        "    percent.plot(kind='bar', figsize=(10,8))\n",
        "    plt.ylabel(\"Number of examples per intent\")\n",
        "    plt.xlabel(\"Intents\")\n",
        "    plt.title(\"Number of examples per intent\")\n",
        "    plt.show()"
      ],
      "execution_count": null,
      "outputs": []
    },
    {
      "cell_type": "code",
      "metadata": {
        "id": "6L6VNW4RjsC-"
      },
      "source": [
        "train,test=select_examples(initial_data,1000)\n",
        "construct_jsonExampleFile(train,test,initial_data)"
      ],
      "execution_count": null,
      "outputs": []
    },
    {
      "cell_type": "code",
      "metadata": {
        "id": "5dWmIUcNjsC-",
        "outputId": "041e8f78-4eb2-4505-99d5-ae50e7452705"
      },
      "source": [
        "training_data = pd.read_json(\"data/training_data.json\")\n",
        "examplesDist_plot(training_data)"
      ],
      "execution_count": null,
      "outputs": [
        {
          "output_type": "display_data",
          "data": {
            "image/png": "[encoded data removed]",
            "text/plain": [
              "<Figure size 720x576 with 1 Axes>"
            ]
          },
          "metadata": {
            "tags": [],
            "needs_background": "light"
          }
        }
      ]
    },
    {
      "cell_type": "code",
      "metadata": {
        "id": "B321qd8TjsC-"
      },
      "source": [
        "def trainModel(pipeline,model_dir):\n",
        "    \"\"\"\n",
        "    :param pipeline: pipleine path to be loaded as the config in the Trainer\n",
        "    :param model_dir: model dir where we need to store the model ,after training model using Trainer\n",
        "    :return: model_dir where the trained model has been trained and saved.\n",
        "    \"\"\"\n",
        "    path_to_data = \"./data/training_data.json\"\n",
        "    training_data = load_data(path_to_data)\n",
        "    trainer = Trainer(config.load(pipeline))\n",
        "    interpreter = trainer.train(training_data)\n",
        "    path_to_model = \"./models/current/\"+model_dir\n",
        "    model_directory = trainer.persist(path_to_model)\n",
        "    return model_directory"
      ],
      "execution_count": null,
      "outputs": []
    },
    {
      "cell_type": "code",
      "metadata": {
        "id": "KLTEul79jsC-"
      },
      "source": [
        "def evaluateModel(pathToData, model_dir):\n",
        "    path_to_data = \"./data/test_data.json\"\n",
        "\n",
        "    if not os.path.exists(model_dir +\"/evaluation\"):\n",
        "        os.mkdir(model_dir +\"/evaluation\")\n",
        "        print(\"Directory \", \"evaluation\", \" Created \")\n",
        "\n",
        "    errors_path = model_dir + \"/evaluation/errors.json\"\n",
        "    confmat_path = model_dir + \"/evaluation/confmat\"\n",
        "    intent_hist_path = model_dir + \"/evaluation/hist\"\n",
        "    run_evaluation(path_to_data, model_dir, errors_filename=errors_path, confmat_filename=confmat_path,\n",
        "                   intent_hist_filename=intent_hist_path)"
      ],
      "execution_count": null,
      "outputs": []
    },
    {
      "cell_type": "code",
      "metadata": {
        "collapsed": true,
        "jupyter": {
          "outputs_hidden": true
        },
        "tags": [],
        "id": "5eiBbBGYjsC_",
        "outputId": "2666062d-2d13-41e3-dc21-7860c21362cf"
      },
      "source": [
        "start = time.time()\n",
        "model_dir = trainModel(\"./data/Tensorflow.config.yml\",\"./Tensorflow_embedings_model\")\n",
        "end = time.time()\n",
        "print(\"The training took \", (end-start)/60, \" mins for execution\")\n",
        "\n",
        "# evaluation of the model\n",
        "print(model_dir)\n",
        "evaluateModel(\"548_training_examples\",model_dir)"
      ],
      "execution_count": null,
      "outputs": [
        {
          "output_type": "stream",
          "text": [
            "\n",
            "WARNING: The TensorFlow contrib module will not be included in TensorFlow 2.0.\n",
            "For more information, please see:\n",
            "  * https://github.com/tensorflow/community/blob/master/rfcs/20180907-contrib-sunset.md\n",
            "  * https://github.com/tensorflow/addons\n",
            "If you depend on functionality not listed there, please file an issue.\n",
            "\n",
            "WARNING:tensorflow:From /home/poonam/artivatic/freeTime/Chatbot/venv/lib/python3.6/site-packages/rasa_nlu/classifiers/embedding_intent_classifier.py:285: dense (from tensorflow.python.layers.core) is deprecated and will be removed in a future version.\n",
            "Instructions for updating:\n",
            "Use keras.layers.dense instead.\n",
            "WARNING:tensorflow:From /home/poonam/artivatic/freeTime/Chatbot/venv/lib/python3.6/site-packages/tensorflow/python/framework/op_def_library.py:263: colocate_with (from tensorflow.python.framework.ops) is deprecated and will be removed in a future version.\n",
            "Instructions for updating:\n",
            "Colocations handled automatically by placer.\n",
            "WARNING:tensorflow:From /home/poonam/artivatic/freeTime/Chatbot/venv/lib/python3.6/site-packages/rasa_nlu/classifiers/embedding_intent_classifier.py:286: dropout (from tensorflow.python.layers.core) is deprecated and will be removed in a future version.\n",
            "Instructions for updating:\n",
            "Use keras.layers.dropout instead.\n",
            "WARNING:tensorflow:From /home/poonam/artivatic/freeTime/Chatbot/venv/lib/python3.6/site-packages/tensorflow/python/keras/layers/core.py:143: calling dropout (from tensorflow.python.ops.nn_ops) with keep_prob is deprecated and will be removed in a future version.\n",
            "Instructions for updating:\n",
            "Please use `rate` instead of `keep_prob`. Rate should be set to `rate = 1 - keep_prob`.\n",
            "WARNING:tensorflow:From /home/poonam/artivatic/freeTime/Chatbot/venv/lib/python3.6/site-packages/tensorflow/python/ops/math_ops.py:3066: to_int32 (from tensorflow.python.ops.math_ops) is deprecated and will be removed in a future version.\n",
            "Instructions for updating:\n",
            "Use tf.cast instead.\n",
            "WARNING:tensorflow:From /home/poonam/artivatic/freeTime/Chatbot/venv/lib/python3.6/site-packages/tensorflow/python/ops/math_grad.py:102: div (from tensorflow.python.ops.math_ops) is deprecated and will be removed in a future version.\n",
            "Instructions for updating:\n",
            "Deprecated in favor of operator or tf.math.divide.\n"
          ],
          "name": "stdout"
        },
        {
          "output_type": "stream",
          "text": [
            "Epochs: 100%|██████████| 300/300 [00:01<00:00, 299.34it/s, loss=0.078, acc=1.000]\n"
          ],
          "name": "stderr"
        },
        {
          "output_type": "stream",
          "text": [
            "The training took  0.038927920659383136  mins for execution\n",
            "/home/poonam/artivatic/freeTime/Chatbot/./models/current/./Tensorflow_embedings_model/default/model_20210720-175704\n",
            "Directory  evaluation  Created \n",
            "WARNING:tensorflow:From /home/poonam/artivatic/freeTime/Chatbot/venv/lib/python3.6/site-packages/tensorflow/python/training/saver.py:1266: checkpoint_exists (from tensorflow.python.training.checkpoint_management) is deprecated and will be removed in a future version.\n",
            "Instructions for updating:\n",
            "Use standard file APIs to check for files with this prefix.\n",
            "INFO:tensorflow:Restoring parameters from /home/poonam/artivatic/freeTime/Chatbot/./models/current/./Tensorflow_embedings_model/default/model_20210720-175704/component_4_EmbeddingIntentClassifier.ckpt\n"
          ],
          "name": "stdout"
        },
        {
          "output_type": "stream",
          "text": [
            "100%|██████████| 8/8 [00:00<00:00, 262.13it/s]\n"
          ],
          "name": "stderr"
        },
        {
          "output_type": "display_data",
          "data": {
            "image/png": "[encoded data removed]",
            "text/plain": [
              "<Figure size 1440x1440 with 2 Axes>"
            ]
          },
          "metadata": {
            "tags": [],
            "needs_background": "light"
          }
        },
        {
          "output_type": "stream",
          "text": [
            "/home/poonam/artivatic/freeTime/Chatbot/venv/lib/python3.6/site-packages/numpy/core/_asarray.py:83: VisibleDeprecationWarning: Creating an ndarray from ragged nested sequences (which is a list-or-tuple of lists-or-tuples-or ndarrays with different lengths or shapes) is deprecated. If you meant to do this, you must specify 'dtype=object' when creating the ndarray\n",
            "  return array(a, dtype, copy=False, order=order)\n"
          ],
          "name": "stderr"
        },
        {
          "output_type": "display_data",
          "data": {
            "image/png": "[encoded data removed]",
            "text/plain": [
              "<Figure size 720x720 with 1 Axes>"
            ]
          },
          "metadata": {
            "tags": [],
            "needs_background": "light"
          }
        },
        {
          "output_type": "stream",
          "text": [
            "/home/poonam/artivatic/freeTime/Chatbot/venv/lib/python3.6/site-packages/sklearn/metrics/classification.py:1143: UndefinedMetricWarning: Precision and F-score are ill-defined and being set to 0.0 in labels with no predicted samples.\n",
            "  'precision', 'predicted', average, warn_for)\n",
            "/home/poonam/artivatic/freeTime/Chatbot/venv/lib/python3.6/site-packages/sklearn/metrics/classification.py:1143: UndefinedMetricWarning: Precision is ill-defined and being set to 0.0 in labels with no predicted samples.\n",
            "  'precision', 'predicted', average, warn_for)\n",
            "/home/poonam/artivatic/freeTime/Chatbot/venv/lib/python3.6/site-packages/sklearn/metrics/classification.py:1143: UndefinedMetricWarning: F-score is ill-defined and being set to 0.0 in labels with no predicted samples.\n",
            "  'precision', 'predicted', average, warn_for)\n"
          ],
          "name": "stderr"
        }
      ]
    },
    {
      "cell_type": "code",
      "metadata": {
        "collapsed": true,
        "jupyter": {
          "outputs_hidden": true
        },
        "tags": [],
        "id": "_zKp6g71jsC_",
        "outputId": "0ddf714c-04c0-4fce-e6d0-163603752601"
      },
      "source": [
        "start = time.time()\n",
        "model_dir = trainModel(\"./data/spacy_config.yml\",\"Spacy_model\")\n",
        "end = time.time()\n",
        "print(\"The training took \", (end-start)/60, \" mins for execution\")\n",
        "print(model_dir)\n",
        "evaluateModel(\"548_training_examples\",model_dir)"
      ],
      "execution_count": null,
      "outputs": [
        {
          "output_type": "stream",
          "text": [
            "Fitting 2 folds for each of 6 candidates, totalling 12 fits\n",
            "The training took  0.011945732434590657  mins for execution\n",
            "/home/poonam/artivatic/freeTime/Chatbot/./models/current/Spacy_model/default/model_20210720-181914\n",
            "Directory  evaluation  Created \n"
          ],
          "name": "stdout"
        },
        {
          "output_type": "stream",
          "text": [
            "[Parallel(n_jobs=1)]: Using backend SequentialBackend with 1 concurrent workers.\n",
            "[Parallel(n_jobs=1)]: Done  12 out of  12 | elapsed:    0.0s finished\n",
            "100%|██████████| 8/8 [00:00<00:00, 203.32it/s]\n"
          ],
          "name": "stderr"
        },
        {
          "output_type": "display_data",
          "data": {
            "image/png": "[encoded data removed]",
            "text/plain": [
              "<Figure size 1440x1440 with 2 Axes>"
            ]
          },
          "metadata": {
            "tags": [],
            "needs_background": "light"
          }
        },
        {
          "output_type": "stream",
          "text": [
            "/home/poonam/artivatic/freeTime/Chatbot/venv/lib/python3.6/site-packages/numpy/core/_asarray.py:83: VisibleDeprecationWarning: Creating an ndarray from ragged nested sequences (which is a list-or-tuple of lists-or-tuples-or ndarrays with different lengths or shapes) is deprecated. If you meant to do this, you must specify 'dtype=object' when creating the ndarray\n",
            "  return array(a, dtype, copy=False, order=order)\n"
          ],
          "name": "stderr"
        },
        {
          "output_type": "display_data",
          "data": {
            "image/png": "[encoded data removed]",
            "text/plain": [
              "<Figure size 720x720 with 1 Axes>"
            ]
          },
          "metadata": {
            "tags": [],
            "needs_background": "light"
          }
        },
        {
          "output_type": "stream",
          "text": [
            "/home/poonam/artivatic/freeTime/Chatbot/venv/lib/python3.6/site-packages/sklearn/metrics/classification.py:1143: UndefinedMetricWarning: Precision and F-score are ill-defined and being set to 0.0 in labels with no predicted samples.\n",
            "  'precision', 'predicted', average, warn_for)\n",
            "/home/poonam/artivatic/freeTime/Chatbot/venv/lib/python3.6/site-packages/sklearn/metrics/classification.py:1143: UndefinedMetricWarning: Precision is ill-defined and being set to 0.0 in labels with no predicted samples.\n",
            "  'precision', 'predicted', average, warn_for)\n",
            "/home/poonam/artivatic/freeTime/Chatbot/venv/lib/python3.6/site-packages/sklearn/metrics/classification.py:1143: UndefinedMetricWarning: F-score is ill-defined and being set to 0.0 in labels with no predicted samples.\n",
            "  'precision', 'predicted', average, warn_for)\n"
          ],
          "name": "stderr"
        }
      ]
    },
    {
      "cell_type": "code",
      "metadata": {
        "id": "d5yjz_7yjsC_"
      },
      "source": [
        "from rasa_nlu.model import Metadata, Interpreter"
      ],
      "execution_count": null,
      "outputs": []
    },
    {
      "cell_type": "code",
      "metadata": {
        "id": "D37rBAkqjsC_"
      },
      "source": [
        "model_directory=\"./Chatbot/models/current/Spacy_model/default/model_20210720-181914\"\n",
        "interpreter = Interpreter.load(model_directory)"
      ],
      "execution_count": null,
      "outputs": []
    },
    {
      "cell_type": "code",
      "metadata": {
        "id": "OyT8OIEajsDA",
        "outputId": "17c69633-b165-41da-b050-3a7ce7de18f2"
      },
      "source": [
        "print(interpreter.parse('Can you tell me about television'))"
      ],
      "execution_count": null,
      "outputs": [
        {
          "output_type": "stream",
          "text": [
            "{'intent': {'name': 'product_info', 'confidence': 0.9556977935497557}, 'entities': [{'start': 22, 'end': 32, 'value': 'television', 'entity': 'product', 'confidence': 0.9790504381933471, 'extractor': 'CRFEntityExtractor'}], 'intent_ranking': [{'name': 'product_info', 'confidence': 0.9556977935497557}, {'name': 'cancel_order', 'confidence': 0.02240485174095824}, {'name': 'ask_price', 'confidence': 0.021897354709286006}], 'text': 'Can you tell me about television'}\n"
          ],
          "name": "stdout"
        }
      ]
    },
    {
      "cell_type": "code",
      "metadata": {
        "id": "72YKVICZjsDA",
        "outputId": "3be60e49-7313-4954-fe35-5579b236f9c0"
      },
      "source": [
        "print(interpreter.parse('i live in Canada'))"
      ],
      "execution_count": null,
      "outputs": [
        {
          "output_type": "stream",
          "text": [
            "{'intent': {'name': 'product_info', 'confidence': 0.8499041512210761}, 'entities': [{'start': 10, 'end': 16, 'value': 'canada', 'entity': 'location', 'confidence': 0.8702145631208607, 'extractor': 'CRFEntityExtractor'}], 'intent_ranking': [{'name': 'product_info', 'confidence': 0.8499041512210761}, {'name': 'cancel_order', 'confidence': 0.10010842505173441}, {'name': 'ask_price', 'confidence': 0.04998742372718988}], 'text': 'i live in Canada'}\n"
          ],
          "name": "stdout"
        }
      ]
    },
    {
      "cell_type": "code",
      "metadata": {
        "id": "a-LJ0Ws5jsDA"
      },
      "source": [
        ""
      ],
      "execution_count": null,
      "outputs": []
    },
    {
      "cell_type": "code",
      "metadata": {
        "id": "t0EkNB_HjsDA"
      },
      "source": [
        "# connecting with MongoDB\n",
        "from pymongo import MongoClient"
      ],
      "execution_count": null,
      "outputs": []
    },
    {
      "cell_type": "code",
      "metadata": {
        "id": "UtVCDybDjsDA"
      },
      "source": [
        "class IntentFlow:\n",
        "    def __init__(self, client_id):\n",
        "        \"\"\"\n",
        "        :param client_id: takes client id as parameter to store intent flow per client wise\n",
        "        \"\"\"\n",
        "        self.mongo_client = MongoClient('localhost:27017')\n",
        "        self.db = self.mongo_client.chatflowdb\n",
        "        self.intent_table = self.db['chatflow']\n",
        "        self.client_id = client_id\n",
        "\n",
        "    def add_flows(self, flow):\n",
        "        \"\"\"\n",
        "        :param flow: Inserts specified flow per client\n",
        "        :return: None\n",
        "        \"\"\"\n",
        "        self.intent_table.insert_one({\n",
        "            \"client_id\": self.client_id,\n",
        "            \"flow\": flow,\n",
        "        })\n",
        "\n",
        "    def resolve_api(self, url):\n",
        "        \"\"\"\n",
        "        :param url: takes url, calls internally to resolve api as api\n",
        "        :return: returns response from the request api\n",
        "        \"\"\"\n",
        "        response = requests.request(\"GET\", url)\n",
        "        return response.text\n",
        "\n",
        "    def extract_api(self, intent_name):\n",
        "        \"\"\"\n",
        "        :param intent_name: intent name is the name of intent for which we need to extract api details\n",
        "        :return: calls resolve api internally ,returns response from resolve api\n",
        "        \"\"\"\n",
        "        response = self.intent_table.find_one({\"client_id\": self.client_id, \"flow.intent\": intent_name})\n",
        "        api_url = response['flow']['api_data']['url']\n",
        "        print(api_url,\"api_url\")\n",
        "        response = self.resolve_api(api_url)\n",
        "        return response\n",
        "\n",
        "    def get_flows(self):\n",
        "        \"\"\"\n",
        "        :return: returns flows associated with the given client id\n",
        "        \"\"\"\n",
        "        response = self.intent_table.find({\n",
        "            \"client_id\": self.client_id,\n",
        "\n",
        "        })\n",
        "        return list(response)\n",
        "\n",
        "    def get_slots_by_intent(self, intent_name):\n",
        "        \"\"\"\n",
        "        :param intent_name: intent names to which we need the slots\n",
        "        :return: returns slots needs to be full filled before triggering api\n",
        "        \"\"\"\n",
        "        response = self.intent_table.find_one({\n",
        "            \"client_id\": self.client_id,\n",
        "            \"flow.intent\": intent_name})\n",
        "        slots = None\n",
        "        if response:\n",
        "            slots = response['flow']['entities']\n",
        "        return slots\n",
        "    \n",
        "class ContextManager:\n",
        "    def __init__(self, client_id, chat_id):\n",
        "        \"\"\"\n",
        "        :param client_id: client id of the context\n",
        "        :param chat_id: chat id to be stored ,so that the context stored is stored by chat for windows per client\n",
        "        \"\"\"\n",
        "        self.mongo_client = MongoClient('localhost:27017')\n",
        "        self.db = self.mongo_client.chatflowdb\n",
        "        self.chat_session = self.db['chatsession']\n",
        "        self.client_id = client_id\n",
        "        self.chat_id = chat_id\n",
        "\n",
        "    def get_context(self):\n",
        "        \"\"\"\n",
        "        :return: returns context stored for a given chat_id\n",
        "        \"\"\"\n",
        "        response = self.chat_session.find_one(\n",
        "            {\"chat_id\": self.chat_id})\n",
        "        return response\n",
        "\n",
        "    def update_slots(self, intent=None, entity=None):\n",
        "        \"\"\"\n",
        "        :param intent: intent to be updated for a given chat_id\n",
        "        :param entity: entity to be updated for a given chat_id\n",
        "        :return: None\n",
        "        \"\"\"\n",
        "        if intent:\n",
        "            self.chat_session.find_one_and_update(\n",
        "                {\"chat_id\": self.chat_id},\n",
        "                {\"$set\": {\"intent\": intent}},\n",
        "                upsert=True\n",
        "            )\n",
        "        if entity:\n",
        "            self.chat_session.find_one_and_update(\n",
        "                {\"chat_id\": self.chat_id},\n",
        "                {\"$push\": {\"entity\": entity}},\n",
        "                upsert=True\n",
        "\n",
        "            )\n",
        "\n",
        "    def get_filled_slots(self):\n",
        "        \"\"\"\n",
        "        :return: returns all the filled slots in the given context for a given chat_id\n",
        "        \"\"\"\n",
        "        response = self.chat_session.find_one(\n",
        "            {\"chat_id\": self.chat_id})\n",
        "        filled_slots = None\n",
        "        if response and \"entity\" in response:\n",
        "            filled_slots = response['entity']\n",
        "        return filled_slots\n",
        "\n",
        "    def get_slots(self, intent_name):\n",
        "        \"\"\"\n",
        "        :param intent_name: intent to be checked for a not-filled slots\n",
        "        :return: slots which are not filled, first check the context and returns  slots are not filled\n",
        "        \"\"\"\n",
        "        intent_flow_obj = IntentFlow(self.client_id)\n",
        "        slots = intent_flow_obj.get_slots_by_intent(intent_name)\n",
        "\n",
        "        if slots:\n",
        "            filled_slots = self.get_filled_slots()\n",
        "            not_filled_slots = [ent for ent in slots if ent['entity'] not in filled_slots]\n",
        "            return not_filled_slots\n",
        "        else:\n",
        "            print(\"No flow found for this intent\")\n"
      ],
      "execution_count": null,
      "outputs": []
    },
    {
      "cell_type": "code",
      "metadata": {
        "id": "sZGl8qzpjsDB"
      },
      "source": [
        "def resolve_api(url):\n",
        "    url = \"https://dezyre.free.beeceptor.com/my/api/path\"\n",
        "    response = requests.request(\"GET\", url)\n",
        "    return response.json()\n",
        "\n",
        "def process_message(message,client_id,chat_id):\n",
        "    \"\"\"\n",
        "    :param message: chat message from the user ,to be processed by the ML models\n",
        "    :param client_id: client id\n",
        "    :param chat_id: chat id for storing context\n",
        "    :return: returns response / prompt for the un - fulfilled slots defined for the given intent\n",
        "    \"\"\"\n",
        "    \"\"\" take chat message,predicts from rasa nlu pipeline\"\"\"\n",
        "    \n",
        "    response = interpreter.parse(message)\n",
        "    print(response,\"response from rasa \")\n",
        "    intent_pred = response['intent']['name']\n",
        "    intent_conf = response['intent']['confidence']\n",
        "    \n",
        "    intent=None\n",
        "    if intent_conf>0.90:\n",
        "        intent=intent_pred\n",
        "        \n",
        "    entities_pred = response['entities']\n",
        "    \n",
        "    context_manager= ContextManager(client_id,chat_id)\n",
        "    \n",
        "    \n",
        "    '''Check if there is an existing intent'''\n",
        "    '''if yes, check predicted now is same or not, if same fine, if not, promt user , if they wants to change??''' ## TODO\n",
        "    try:\n",
        "        context = context_manager.get_context()\n",
        "        print(context,\"got context as this\")\n",
        "        if \"intent\" in context.keys():\n",
        "            intent_context = context['intent']\n",
        "            print(intent_context,\"intent_context\")\n",
        "            print(intent,\"intent predicted\")\n",
        "            if intent_context==intent:\n",
        "                intent=intent_context\n",
        "            else:\n",
        "                if intent:\n",
        "                    return \"Do you want to change the intent?\"\n",
        "                else:\n",
        "                    \"\"\"it means there is no intnet now, so we will continue the intent in context\"\"\"\n",
        "                    intent=intent_context\n",
        "    except:\n",
        "        \"\"\"No context has been saved yet for this chat yet!! \"\"\"\n",
        "        print(\"updating context as intent\",intent)\n",
        "        if intent:\n",
        "            context_manager.update_slots(intent=intent)\n",
        "\n",
        "\n",
        "    if entities_pred:\n",
        "        for each_ent in entities_pred:\n",
        "            entity=each_ent['entity']\n",
        "            value=each_ent['value']\n",
        "            conf = each_ent['confidence']\n",
        "            if conf >0.60:\n",
        "                context_manager.update_slots(entity=entity)\n",
        "    response=context_manager.get_slots(intent)\n",
        "    if response:\n",
        "        prompt_question=response[0]['prompt']\n",
        "        return prompt_question\n",
        "    else:\n",
        "        intent_obj=IntentFlow(client_id)\n",
        "        response = intent_obj.extract_api(intent)\n",
        "        return response"
      ],
      "execution_count": null,
      "outputs": []
    },
    {
      "cell_type": "code",
      "metadata": {
        "id": "5jY8b37GjsDB"
      },
      "source": [
        "chat_id=\"0036\"\n",
        "client_id=4"
      ],
      "execution_count": null,
      "outputs": []
    },
    {
      "cell_type": "code",
      "metadata": {
        "id": "hkFoNrFMjsDB"
      },
      "source": [
        "message = \"Can you tell me about television ?\""
      ],
      "execution_count": null,
      "outputs": []
    },
    {
      "cell_type": "code",
      "metadata": {
        "id": "gROYa1XOjsDB",
        "outputId": "28fe29bf-1003-4679-aa99-a3105f15a34f"
      },
      "source": [
        "process_message(message,client_id,chat_id)"
      ],
      "execution_count": null,
      "outputs": [
        {
          "output_type": "stream",
          "text": [
            "{'intent': {'name': 'product_info', 'confidence': 0.9298099224530895}, 'entities': [{'start': 22, 'end': 32, 'value': 'television', 'entity': 'product', 'confidence': 0.7964918065877242, 'extractor': 'CRFEntityExtractor'}], 'intent_ranking': [{'name': 'product_info', 'confidence': 0.9298099224530895}, {'name': 'ask_price', 'confidence': 0.04563543444158384}, {'name': 'cancel_order', 'confidence': 0.024554643105326634}], 'text': 'Can you tell me about television ?'} response from rasa \n",
            "None got context as this\n",
            "updating context as intent product_info\n",
            "in get slots by intent\n",
            "product_info 4\n",
            "{'_id': ObjectId('60faa60cf7f8ce52a63766d6'), 'client_id': 4, 'flow': {'intent': 'product_info', 'entities': [{'entity': 'product', 'prompt': 'can you please enter what are you searching ?'}, {'entity': 'location', 'prompt': 'Please enter your location ?'}], 'api_data': {'url': 'https://dezyre.free.beeceptor.com/my/api/path'}}}\n"
          ],
          "name": "stdout"
        },
        {
          "output_type": "execute_result",
          "data": {
            "text/plain": [
              "'Please enter your location ?'"
            ]
          },
          "metadata": {
            "tags": []
          },
          "execution_count": 128
        }
      ]
    },
    {
      "cell_type": "code",
      "metadata": {
        "id": "lLwH1hpOjsDB"
      },
      "source": [
        "message = \"i live in Canada \""
      ],
      "execution_count": null,
      "outputs": []
    },
    {
      "cell_type": "code",
      "metadata": {
        "id": "twmXslrnjsDC",
        "outputId": "4ede6a1a-e212-4873-90c3-bac87d2167a0"
      },
      "source": [
        "process_message(message,client_id,chat_id)"
      ],
      "execution_count": null,
      "outputs": [
        {
          "output_type": "stream",
          "text": [
            "{'intent': {'name': 'product_info', 'confidence': 0.8499041512210761}, 'entities': [{'start': 10, 'end': 16, 'value': 'canada', 'entity': 'location', 'confidence': 0.8702145631208607, 'extractor': 'CRFEntityExtractor'}], 'intent_ranking': [{'name': 'product_info', 'confidence': 0.8499041512210761}, {'name': 'cancel_order', 'confidence': 0.10010842505173441}, {'name': 'ask_price', 'confidence': 0.04998742372718988}], 'text': 'i live in Canada '} response from rasa \n",
            "{'_id': ObjectId('60faaa236907158f37c0c795'), 'chat_id': '0036', 'intent': 'product_info', 'entity': ['product']} got context as this\n",
            "product_info intent_context\n",
            "None intent predicted\n",
            "in get slots by intent\n",
            "product_info 4\n",
            "{'_id': ObjectId('60faa60cf7f8ce52a63766d6'), 'client_id': 4, 'flow': {'intent': 'product_info', 'entities': [{'entity': 'product', 'prompt': 'can you please enter what are you searching ?'}, {'entity': 'location', 'prompt': 'Please enter your location ?'}], 'api_data': {'url': 'https://dezyre.free.beeceptor.com/my/api/path'}}}\n"
          ],
          "name": "stdout"
        },
        {
          "output_type": "execute_result",
          "data": {
            "text/plain": [
              "{'price': 200}"
            ]
          },
          "metadata": {
            "tags": []
          },
          "execution_count": 130
        }
      ]
    },
    {
      "cell_type": "code",
      "metadata": {
        "id": "9uhjK0qCjsDC"
      },
      "source": [
        ""
      ],
      "execution_count": null,
      "outputs": []
    },
    {
      "cell_type": "code",
      "metadata": {
        "id": "bceNITc2jsDC"
      },
      "source": [
        ""
      ],
      "execution_count": null,
      "outputs": []
    },
    {
      "cell_type": "code",
      "metadata": {
        "id": "Fr1Dsce4jsDC"
      },
      "source": [
        ""
      ],
      "execution_count": null,
      "outputs": []
    },
    {
      "cell_type": "markdown",
      "metadata": {
        "id": "3ZXNE7AnjsDC"
      },
      "source": [
        " we basically have 3 types of intent\n",
        "\n",
        "1) product_info :Depends on these entities : [product,location]\n",
        "\n",
        "2) ask_price :Depends on these entities : [product,location]\n",
        "\n",
        "3) cancel_order :Depends on these entities : [order_id]\n"
      ]
    },
    {
      "cell_type": "code",
      "metadata": {
        "id": "8UJtX_B4jsDC"
      },
      "source": [
        "flow_1={\n",
        "    \"intent\":\"product_info\",\n",
        "    \"entities\":[\n",
        "        {\"entity\":\"product\",\"prompt\":\"can you please enter what are you searching ?\"},\n",
        "        {\"entity\":\"location\",\"prompt\":\"Please enter your location ?\"}\n",
        "    ],\n",
        "    \"api_data\":{\n",
        "        \"url\":\"https://dezyre.free.beeceptor.com/my/api/path\",\n",
        "            }\n",
        "    }\n",
        "\n",
        "flow_2 = {\n",
        "    \"intent\":\"ask_price\",\n",
        "     \"entities\":[\n",
        "        {\"entity\":\"product\",\"prompt\":\"can you please enter what are you searching ?\"},\n",
        "        {\"entity\":\"location\",\"prompt\":\"Please enter your location ?\"}\n",
        "    ],\n",
        "       \"api_data\":{\n",
        "        \"url\":\"https://dezyre.free.beeceptor.com/my/api/path\",\n",
        "            }\n",
        "    }\n",
        "\n",
        "flow_3 = {\n",
        "    \"intent\":\"ask_price\",\n",
        "     \"entities\":[\n",
        "        {\"entity\":\"order_id\",\"prompt\":\"Please enter your order id ?\"},\n",
        "    ],\n",
        "       \"api_data\":{\n",
        "        \"url\":\"https://dezyre.free.beeceptor.com/my/api/path\",\n",
        "            }\n",
        "    }"
      ],
      "execution_count": null,
      "outputs": []
    },
    {
      "cell_type": "code",
      "metadata": {
        "id": "4DxUVYLdjsDC"
      },
      "source": [
        "intent_flow_obj=IntentFlow(client_id)\n",
        "intent_flow_obj.add_flows(flow_1)\n",
        "intent_flow_obj.add_flows(flow_2)\n",
        "intent_flow_obj.add_flows(flow_3)"
      ],
      "execution_count": null,
      "outputs": []
    },
    {
      "cell_type": "code",
      "metadata": {
        "id": "VLXnbW-SjsDC",
        "outputId": "468a5281-4fd3-46c4-cbec-313d181bb4a0"
      },
      "source": [
        "intent_flow_obj.get_slots_by_intent(\"product_info\")"
      ],
      "execution_count": null,
      "outputs": [
        {
          "output_type": "execute_result",
          "data": {
            "text/plain": [
              "[{'entity': 'product',\n",
              "  'prompt': 'can you please enter what are you searching ?'},\n",
              " {'entity': 'location', 'prompt': 'Please enter your location ?'}]"
            ]
          },
          "metadata": {
            "tags": []
          },
          "execution_count": 72
        }
      ]
    }
  ]
}